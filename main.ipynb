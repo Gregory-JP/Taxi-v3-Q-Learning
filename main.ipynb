{
 "cells": [
  {
   "cell_type": "code",
   "execution_count": 2,
   "id": "0016434c",
   "metadata": {},
   "outputs": [],
   "source": [
    "import gym\n",
    "import random\n",
    "from time import sleep\n",
    "import numpy as np\n",
    "from IPython.display import clear_output # caso você não usa o Jupyer ou o Colab, pode comentar ou apagar essa linha de código\n",
    "!pip install pygame"
   ]
  },
  {
   "cell_type": "code",
   "execution_count": 11,
   "id": "2313c571",
   "metadata": {},
   "outputs": [
    {
     "name": "stdout",
     "output_type": "stream",
     "text": [
      "+---------+\n",
      "|R: | : :\u001b[35mG\u001b[0m|\n",
      "| : | : : |\n",
      "| : : : : |\n",
      "| | : | :\u001b[43m \u001b[0m|\n",
      "|\u001b[34;1mY\u001b[0m| : |B: |\n",
      "+---------+\n",
      "\n"
     ]
    }
   ],
   "source": [
    "env = gym.make('Taxi-v3').env\n",
    "env.reset()\n",
    "env.render()"
   ]
  },
  {
   "cell_type": "code",
   "execution_count": 12,
   "id": "217542dd",
   "metadata": {},
   "outputs": [
    {
     "name": "stdout",
     "output_type": "stream",
     "text": [
      "Discrete(6)\n"
     ]
    }
   ],
   "source": [
    "# 0 = south, 1 = north, 2 = east, 3 = west, 4 = pickup and 5 = dropoff\n",
    "\n",
    "print(env.action_space)"
   ]
  },
  {
   "cell_type": "code",
   "execution_count": 13,
   "id": "9a24ad64",
   "metadata": {},
   "outputs": [
    {
     "name": "stdout",
     "output_type": "stream",
     "text": [
      "Discrete(500)\n"
     ]
    }
   ],
   "source": [
    "print(env.observation_space)"
   ]
  },
  {
   "cell_type": "code",
   "execution_count": 14,
   "id": "125e98b2",
   "metadata": {},
   "outputs": [
    {
     "data": {
      "text/plain": [
       "500"
      ]
     },
     "execution_count": 14,
     "metadata": {},
     "output_type": "execute_result"
    }
   ],
   "source": [
    "len(env.P)"
   ]
  },
  {
   "cell_type": "code",
   "execution_count": 16,
   "id": "4d266eb8",
   "metadata": {},
   "outputs": [
    {
     "data": {
      "text/plain": [
       "{0: [(1.0, 484, -1, False)],\n",
       " 1: [(1.0, 384, -1, False)],\n",
       " 2: [(1.0, 484, -1, False)],\n",
       " 3: [(1.0, 464, -1, False)],\n",
       " 4: [(1.0, 484, -10, False)],\n",
       " 5: [(1.0, 484, -10, False)]}"
      ]
     },
     "execution_count": 16,
     "metadata": {},
     "output_type": "execute_result"
    }
   ],
   "source": [
    "env.P[484]"
   ]
  },
  {
   "cell_type": "code",
   "execution_count": 19,
   "id": "3754f660",
   "metadata": {},
   "outputs": [
    {
     "data": {
      "text/plain": [
       "{0: [(1.0, 484, -1, False)],\n",
       " 1: [(1.0, 284, -1, False)],\n",
       " 2: [(1.0, 384, -1, False)],\n",
       " 3: [(1.0, 364, -1, False)],\n",
       " 4: [(1.0, 384, -10, False)],\n",
       " 5: [(1.0, 384, -10, False)]}"
      ]
     },
     "execution_count": 19,
     "metadata": {},
     "output_type": "execute_result"
    }
   ],
   "source": [
    "env.P[384]"
   ]
  },
  {
   "cell_type": "code",
   "execution_count": 31,
   "id": "d2870f16",
   "metadata": {},
   "outputs": [
    {
     "data": {
      "text/plain": [
       "(500, 6)"
      ]
     },
     "execution_count": 31,
     "metadata": {},
     "output_type": "execute_result"
    }
   ],
   "source": [
    "q_table = np.zeros([env.observation_space.n, env.action_space.n])\n",
    "q_table.shape"
   ]
  },
  {
   "cell_type": "code",
   "execution_count": 32,
   "id": "1f30d5a4",
   "metadata": {},
   "outputs": [
    {
     "data": {
      "text/plain": [
       "array([[0., 0., 0., 0., 0., 0.],\n",
       "       [0., 0., 0., 0., 0., 0.],\n",
       "       [0., 0., 0., 0., 0., 0.],\n",
       "       ...,\n",
       "       [0., 0., 0., 0., 0., 0.],\n",
       "       [0., 0., 0., 0., 0., 0.],\n",
       "       [0., 0., 0., 0., 0., 0.]])"
      ]
     },
     "execution_count": 32,
     "metadata": {},
     "output_type": "execute_result"
    }
   ],
   "source": [
    "q_table"
   ]
  },
  {
   "cell_type": "code",
   "execution_count": 33,
   "id": "0acb32c5",
   "metadata": {},
   "outputs": [
    {
     "data": {
      "text/plain": [
       "1"
      ]
     },
     "execution_count": 33,
     "metadata": {},
     "output_type": "execute_result"
    }
   ],
   "source": [
    "np.argmax(np.array([3, 5]))"
   ]
  },
  {
   "cell_type": "code",
   "execution_count": 34,
   "id": "0441ba2f",
   "metadata": {},
   "outputs": [
    {
     "name": "stdout",
     "output_type": "stream",
     "text": [
      "Episódio 99900\n",
      "Treinamento concluído\n",
      "Wall time: 1min 44s\n"
     ]
    }
   ],
   "source": [
    "%%time\n",
    "\n",
    "alpha = 0.1\n",
    "gamma = 0.6\n",
    "epsilon = 0.1\n",
    "\n",
    "for i in range(100000):\n",
    "    estado = env.reset()\n",
    "    \n",
    "    penalidades, recompensa = 0, 0\n",
    "    done = False\n",
    "    \n",
    "    while not done:\n",
    "        # exploracao\n",
    "        if random.uniform(0, 1) < epsilon:\n",
    "            acao = env.action_space.sample()\n",
    "            # exploitation\n",
    "        else:\n",
    "            acao = np.argmax(q_table[estado])\n",
    "        \n",
    "        proximo_estado, recompensa, done, info = env.step(acao)\n",
    "        \n",
    "        q_antigo = q_table[estado, acao]\n",
    "        proximo_maximo = np.max(q_table[proximo_estado])\n",
    "        \n",
    "        q_novo = (1 - alpha) * q_antigo + alpha * (recompensa + gamma * proximo_maximo)\n",
    "        q_table[estado, acao] = q_novo\n",
    "        \n",
    "        if recompensa == -10:\n",
    "            penalidades += 1\n",
    "            \n",
    "        estado = proximo_estado\n",
    "    \n",
    "    if i % 100 == 0:\n",
    "        clear_output(wait=True)\n",
    "        print(f'Episódio {i}')\n",
    "        \n",
    "print('Treinamento concluído')"
   ]
  },
  {
   "cell_type": "code",
   "execution_count": 36,
   "id": "cc2411b8",
   "metadata": {},
   "outputs": [
    {
     "data": {
      "text/plain": [
       "array([-2.49476939, -2.4936525 , -2.4936525 , -2.4948838 , -6.38305771,\n",
       "       -9.04335906])"
      ]
     },
     "execution_count": 36,
     "metadata": {},
     "output_type": "execute_result"
    }
   ],
   "source": [
    "q_table[424]"
   ]
  },
  {
   "cell_type": "code",
   "execution_count": 81,
   "id": "a9705a81",
   "metadata": {},
   "outputs": [
    {
     "name": "stdout",
     "output_type": "stream",
     "text": [
      "+---------+\n",
      "|\u001b[35mR\u001b[0m: | : :G|\n",
      "| : | : : |\n",
      "| : : : :\u001b[43m \u001b[0m|\n",
      "| | : | : |\n",
      "|\u001b[34;1mY\u001b[0m| : |B: |\n",
      "+---------+\n",
      "\n"
     ]
    }
   ],
   "source": [
    "env.reset()\n",
    "env.render()\n",
    "\n",
    "# azul, ponto de partida\n",
    "# roxo, destino final"
   ]
  },
  {
   "cell_type": "code",
   "execution_count": 82,
   "id": "c3ed786e",
   "metadata": {},
   "outputs": [
    {
     "data": {
      "text/plain": [
       "283"
      ]
     },
     "execution_count": 82,
     "metadata": {},
     "output_type": "execute_result"
    }
   ],
   "source": [
    "env.encode(2, 4, 0, 3)"
   ]
  },
  {
   "cell_type": "code",
   "execution_count": 83,
   "id": "f296d167",
   "metadata": {},
   "outputs": [
    {
     "data": {
      "text/plain": [
       "array([ -2.49136998,  -2.49164532,  -2.48785148,  -2.48236806,\n",
       "       -10.79594645, -10.02539666])"
      ]
     },
     "execution_count": 83,
     "metadata": {},
     "output_type": "execute_result"
    }
   ],
   "source": [
    "q_table[283]"
   ]
  },
  {
   "cell_type": "code",
   "execution_count": 85,
   "id": "5ba8eeff",
   "metadata": {},
   "outputs": [
    {
     "name": "stdout",
     "output_type": "stream",
     "text": [
      "Episódios 50\n",
      "Penalidades 0\n"
     ]
    }
   ],
   "source": [
    "total_penalidades = 0\n",
    "episodios = 50\n",
    "frames = []\n",
    "\n",
    "for _ in range(episodios):\n",
    "    estado = env.reset()\n",
    "    penalidades, recompensa = 0, 0\n",
    "    done = False\n",
    "    \n",
    "    while not done:\n",
    "        acao = np.argmax(q_table[estado])\n",
    "        estado, recompensa, done, info = env.step(acao)\n",
    "        \n",
    "        if recompensa == -10:\n",
    "            penalidades += 1\n",
    "            \n",
    "        frames.append({'frame': env.render(mode='ansi'),\n",
    "                      'state': estado,\n",
    "                       'action': acao,\n",
    "                       'reward': recompensa\n",
    "                      })\n",
    "        \n",
    "        total_penalidades += penalidades\n",
    "        \n",
    "print(f'Episódios {episodios}')\n",
    "print(f'Penalidades {total_penalidades}')"
   ]
  },
  {
   "cell_type": "code",
   "execution_count": 87,
   "id": "42d43c8b",
   "metadata": {},
   "outputs": [
    {
     "data": {
      "text/plain": [
       "{'frame': '+---------+\\n|R: | : :\\x1b[35mG\\x1b[0m|\\n| : | : : |\\n| : : : : |\\n|\\x1b[43m \\x1b[0m| : | : |\\n|\\x1b[34;1mY\\x1b[0m| : |B: |\\n+---------+\\n  (South)\\n',\n",
       " 'state': 309,\n",
       " 'action': 0,\n",
       " 'reward': -1}"
      ]
     },
     "execution_count": 87,
     "metadata": {},
     "output_type": "execute_result"
    }
   ],
   "source": [
    "frames[0]"
   ]
  },
  {
   "cell_type": "code",
   "execution_count": null,
   "id": "49066bed",
   "metadata": {},
   "outputs": [],
   "source": [
    "for frame in frames:\n",
    "    clear_output(wait=True)\n",
    "    print(frame['frame'])\n",
    "    print(f\"Estado {frame['state']}\")\n",
    "    print(f\"Ação {frame['action']}\")\n",
    "    print(f\"Recompensa {frame['reward']}\")\n",
    "    sleep(0.5)"
   ]
  },
  {
   "cell_type": "code",
   "execution_count": null,
   "id": "2b481799",
   "metadata": {},
   "outputs": [],
   "source": []
  }
 ],
 "metadata": {
  "kernelspec": {
   "display_name": "Python 3 (ipykernel)",
   "language": "python",
   "name": "python3"
  },
  "language_info": {
   "codemirror_mode": {
    "name": "ipython",
    "version": 3
   },
   "file_extension": ".py",
   "mimetype": "text/x-python",
   "name": "python",
   "nbconvert_exporter": "python",
   "pygments_lexer": "ipython3",
   "version": "3.9.7"
  }
 },
 "nbformat": 4,
 "nbformat_minor": 5
}
