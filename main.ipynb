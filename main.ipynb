{
 "cells": [
  {
   "cell_type": "code",
   "execution_count": 2,
   "id": "2fc3ec00",
   "metadata": {},
   "outputs": [],
   "source": [
    "import gym\n",
    "import random\n",
    "from time import sleep\n",
    "import numpy as np\n",
    "from IPython.display import clear_output # caso você não usa o Jupyer ou o Colab, pode comentar ou apagar essa linha de código\n",
    "!pip install pygame"
   ]
  },
  {
   "cell_type": "code",
   "execution_count": 11,
   "id": "c626263e",
   "metadata": {},
   "outputs": [
    {
     "name": "stdout",
     "output_type": "stream",
     "text": [
      "+---------+\n",
      "|R: | : :\u001b[35mG\u001b[0m|\n",
      "| : | : : |\n",
      "| : : : : |\n",
      "| | : | :\u001b[43m \u001b[0m|\n",
      "|\u001b[34;1mY\u001b[0m| : |B: |\n",
      "+---------+\n",
      "\n"
     ]
    }
   ],
   "source": [
    "env = gym.make('Taxi-v3').env\n",
    "env.reset()\n",
    "env.render()"
   ]
  },
  {
   "cell_type": "code",
   "execution_count": 12,
   "id": "c94ad843",
   "metadata": {},
   "outputs": [
    {
     "name": "stdout",
     "output_type": "stream",
     "text": [
      "Discrete(6)\n"
     ]
    }
   ],
   "source": [
    "# 0 = south, 1 = north, 2 = east, 3 = west, 4 = pickup and 5 = dropoff\n",
    "\n",
    "print(env.action_space)"
   ]
  },
  {
   "cell_type": "code",
   "execution_count": 13,
   "id": "7210f428",
   "metadata": {},
   "outputs": [
    {
     "name": "stdout",
     "output_type": "stream",
     "text": [
      "Discrete(500)\n"
     ]
    }
   ],
   "source": [
    "print(env.observation_space)"
   ]
  },
  {
   "cell_type": "code",
   "execution_count": 14,
   "id": "51f4af9a",
   "metadata": {},
   "outputs": [
    {
     "data": {
      "text/plain": [
       "500"
      ]
     },
     "execution_count": 14,
     "metadata": {},
     "output_type": "execute_result"
    }
   ],
   "source": [
    "len(env.P)"
   ]
  },
  {
   "cell_type": "code",
   "execution_count": 16,
   "id": "b0431402",
   "metadata": {},
   "outputs": [
    {
     "data": {
      "text/plain": [
       "{0: [(1.0, 484, -1, False)],\n",
       " 1: [(1.0, 384, -1, False)],\n",
       " 2: [(1.0, 484, -1, False)],\n",
       " 3: [(1.0, 464, -1, False)],\n",
       " 4: [(1.0, 484, -10, False)],\n",
       " 5: [(1.0, 484, -10, False)]}"
      ]
     },
     "execution_count": 16,
     "metadata": {},
     "output_type": "execute_result"
    }
   ],
   "source": [
    "env.P[484]"
   ]
  },
  {
   "cell_type": "code",
   "execution_count": 19,
   "id": "6d035186",
   "metadata": {},
   "outputs": [
    {
     "data": {
      "text/plain": [
       "{0: [(1.0, 484, -1, False)],\n",
       " 1: [(1.0, 284, -1, False)],\n",
       " 2: [(1.0, 384, -1, False)],\n",
       " 3: [(1.0, 364, -1, False)],\n",
       " 4: [(1.0, 384, -10, False)],\n",
       " 5: [(1.0, 384, -10, False)]}"
      ]
     },
     "execution_count": 19,
     "metadata": {},
     "output_type": "execute_result"
    }
   ],
   "source": [
    "env.P[384]"
   ]
  },
  {
   "cell_type": "code",
   "execution_count": 31,
   "id": "e0191730",
   "metadata": {},
   "outputs": [
    {
     "data": {
      "text/plain": [
       "(500, 6)"
      ]
     },
     "execution_count": 31,
     "metadata": {},
     "output_type": "execute_result"
    }
   ],
   "source": [
    "q_table = np.zeros([env.observation_space.n, env.action_space.n])\n",
    "q_table.shape"
   ]
  },
  {
   "cell_type": "code",
   "execution_count": 32,
   "id": "36d53015",
   "metadata": {},
   "outputs": [
    {
     "data": {
      "text/plain": [
       "array([[0., 0., 0., 0., 0., 0.],\n",
       "       [0., 0., 0., 0., 0., 0.],\n",
       "       [0., 0., 0., 0., 0., 0.],\n",
       "       ...,\n",
       "       [0., 0., 0., 0., 0., 0.],\n",
       "       [0., 0., 0., 0., 0., 0.],\n",
       "       [0., 0., 0., 0., 0., 0.]])"
      ]
     },
     "execution_count": 32,
     "metadata": {},
     "output_type": "execute_result"
    }
   ],
   "source": [
    "q_table"
   ]
  },
  {
   "cell_type": "code",
   "execution_count": 33,
   "id": "45b8ecbb",
   "metadata": {},
   "outputs": [
    {
     "data": {
      "text/plain": [
       "1"
      ]
     },
     "execution_count": 33,
     "metadata": {},
     "output_type": "execute_result"
    }
   ],
   "source": [
    "np.argmax(np.array([3, 5]))"
   ]
  },
  {
   "cell_type": "code",
   "execution_count": 34,
   "id": "0c9cb851",
   "metadata": {},
   "outputs": [
    {
     "name": "stdout",
     "output_type": "stream",
     "text": [
      "Episódio 99900\n",
      "Treinamento concluído\n",
      "Wall time: 1min 44s\n"
     ]
    }
   ],
   "source": [
    "%%time\n",
    "\n",
    "alpha = 0.1\n",
    "gamma = 0.6\n",
    "epsilon = 0.1\n",
    "\n",
    "for i in range(100000):\n",
    "    estado = env.reset()\n",
    "    \n",
    "    penalidades, recompensa = 0, 0\n",
    "    done = False\n",
    "    \n",
    "    while not done:\n",
    "        # exploracao\n",
    "        if random.uniform(0, 1) < epsilon:\n",
    "            acao = env.action_space.sample()\n",
    "            # exploitation\n",
    "        else:\n",
    "            acao = np.argmax(q_table[estado])\n",
    "        \n",
    "        proximo_estado, recompensa, done, info = env.step(acao)\n",
    "        \n",
    "        q_antigo = q_table[estado, acao]\n",
    "        proximo_maximo = np.max(q_table[proximo_estado])\n",
    "        \n",
    "        q_novo = (1 - alpha) * q_antigo + alpha * (recompensa + gamma * proximo_maximo)\n",
    "        q_table[estado, acao] = q_novo\n",
    "        \n",
    "        if recompensa == -10:\n",
    "            penalidades += 1\n",
    "            \n",
    "        estado = proximo_estado\n",
    "    \n",
    "    if i % 100 == 0:\n",
    "        clear_output(wait=True)\n",
    "        print(f'Episódio {i}')\n",
    "        \n",
    "print('Treinamento concluído')"
   ]
  },
  {
   "cell_type": "code",
   "execution_count": 36,
   "id": "a7d1e043",
   "metadata": {},
   "outputs": [
    {
     "data": {
      "text/plain": [
       "array([-2.49476939, -2.4936525 , -2.4936525 , -2.4948838 , -6.38305771,\n",
       "       -9.04335906])"
      ]
     },
     "execution_count": 36,
     "metadata": {},
     "output_type": "execute_result"
    }
   ],
   "source": [
    "q_table[424]"
   ]
  },
  {
   "cell_type": "code",
   "execution_count": 81,
   "id": "9bb77e0e",
   "metadata": {},
   "outputs": [
    {
     "name": "stdout",
     "output_type": "stream",
     "text": [
      "+---------+\n",
      "|\u001b[35mR\u001b[0m: | : :G|\n",
      "| : | : : |\n",
      "| : : : :\u001b[43m \u001b[0m|\n",
      "| | : | : |\n",
      "|\u001b[34;1mY\u001b[0m| : |B: |\n",
      "+---------+\n",
      "\n"
     ]
    }
   ],
   "source": [
    "env.reset()\n",
    "env.render()\n",
    "\n",
    "# azul, ponto de partida\n",
    "# roxo, destino final"
   ]
  },
  {
   "cell_type": "code",
   "execution_count": 82,
   "id": "8f4d4bad",
   "metadata": {},
   "outputs": [
    {
     "data": {
      "text/plain": [
       "283"
      ]
     },
     "execution_count": 82,
     "metadata": {},
     "output_type": "execute_result"
    }
   ],
   "source": [
    "env.encode(2, 4, 0, 3)"
   ]
  },
  {
   "cell_type": "code",
   "execution_count": 83,
   "id": "2f8978fa",
   "metadata": {},
   "outputs": [
    {
     "data": {
      "text/plain": [
       "array([ -2.49136998,  -2.49164532,  -2.48785148,  -2.48236806,\n",
       "       -10.79594645, -10.02539666])"
      ]
     },
     "execution_count": 83,
     "metadata": {},
     "output_type": "execute_result"
    }
   ],
   "source": [
    "q_table[283]"
   ]
  },
  {
   "cell_type": "code",
   "execution_count": 85,
   "id": "13e572f9",
   "metadata": {},
   "outputs": [
    {
     "name": "stdout",
     "output_type": "stream",
     "text": [
      "Episódios 50\n",
      "Penalidades 0\n"
     ]
    }
   ],
   "source": [
    "total_penalidades = 0\n",
    "episodios = 50\n",
    "frames = []\n",
    "\n",
    "for _ in range(episodios):\n",
    "    estado = env.reset()\n",
    "    penalidades, recompensa = 0, 0\n",
    "    done = False\n",
    "    \n",
    "    while not done:\n",
    "        acao = np.argmax(q_table[estado])\n",
    "        estado, recompensa, done, info = env.step(acao)\n",
    "        \n",
    "        if recompensa == -10:\n",
    "            penalidades += 1\n",
    "            \n",
    "        frames.append({'frame': env.render(mode='ansi'),\n",
    "                      'state': estado,\n",
    "                       'action': acao,\n",
    "                       'reward': recompensa\n",
    "                      })\n",
    "        \n",
    "        total_penalidades += penalidades\n",
    "        \n",
    "print(f'Episódios {episodios}')\n",
    "print(f'Penalidades {total_penalidades}')"
   ]
  },
  {
   "cell_type": "code",
   "execution_count": 87,
   "id": "e18d09b2",
   "metadata": {},
   "outputs": [
    {
     "data": {
      "text/plain": [
       "{'frame': '+---------+\\n|R: | : :\\x1b[35mG\\x1b[0m|\\n| : | : : |\\n| : : : : |\\n|\\x1b[43m \\x1b[0m| : | : |\\n|\\x1b[34;1mY\\x1b[0m| : |B: |\\n+---------+\\n  (South)\\n',\n",
       " 'state': 309,\n",
       " 'action': 0,\n",
       " 'reward': -1}"
      ]
     },
     "execution_count": 87,
     "metadata": {},
     "output_type": "execute_result"
    }
   ],
   "source": [
    "frames[0]"
   ]
  },
  {
   "cell_type": "code",
   "execution_count": 94,
   "id": "2dfa43f6",
   "metadata": {},
   "outputs": [
    {
     "name": "stdout",
     "output_type": "stream",
     "text": [
      "+---------+\n",
      "|\u001b[35mR\u001b[0m: | : :G|\n",
      "| : | : : |\n",
      "| : : : : |\n",
      "| | : | : |\n",
      "|Y| : |\u001b[42mB\u001b[0m: |\n",
      "+---------+\n",
      "  (Pickup)\n",
      "\n",
      "Estado 476\n",
      "Ação 4\n",
      "Recompensa -1\n"
     ]
    },
    {
     "ename": "KeyboardInterrupt",
     "evalue": "",
     "output_type": "error",
     "traceback": [
      "\u001b[1;31m---------------------------------------------------------------------------\u001b[0m",
      "\u001b[1;31mKeyboardInterrupt\u001b[0m                         Traceback (most recent call last)",
      "\u001b[1;32m~\\AppData\\Local\\Temp/ipykernel_13700/1682596368.py\u001b[0m in \u001b[0;36m<module>\u001b[1;34m\u001b[0m\n\u001b[0;32m      5\u001b[0m     \u001b[0mprint\u001b[0m\u001b[1;33m(\u001b[0m\u001b[1;34mf\"Ação {frame['action']}\"\u001b[0m\u001b[1;33m)\u001b[0m\u001b[1;33m\u001b[0m\u001b[1;33m\u001b[0m\u001b[0m\n\u001b[0;32m      6\u001b[0m     \u001b[0mprint\u001b[0m\u001b[1;33m(\u001b[0m\u001b[1;34mf\"Recompensa {frame['reward']}\"\u001b[0m\u001b[1;33m)\u001b[0m\u001b[1;33m\u001b[0m\u001b[1;33m\u001b[0m\u001b[0m\n\u001b[1;32m----> 7\u001b[1;33m     \u001b[0msleep\u001b[0m\u001b[1;33m(\u001b[0m\u001b[1;36m0.5\u001b[0m\u001b[1;33m)\u001b[0m\u001b[1;33m\u001b[0m\u001b[1;33m\u001b[0m\u001b[0m\n\u001b[0m",
      "\u001b[1;31mKeyboardInterrupt\u001b[0m: "
     ]
    }
   ],
   "source": [
    "for frame in frames:\n",
    "    clear_output(wait=True)\n",
    "    print(frame['frame'])\n",
    "    print(f\"Estado {frame['state']}\")\n",
    "    print(f\"Ação {frame['action']}\")\n",
    "    print(f\"Recompensa {frame['reward']}\")\n",
    "    sleep(0.5)"
   ]
  },
  {
   "cell_type": "code",
   "execution_count": null,
   "id": "34d927db",
   "metadata": {},
   "outputs": [],
   "source": []
  }
 ],
 "metadata": {
  "kernelspec": {
   "display_name": "Python 3 (ipykernel)",
   "language": "python",
   "name": "python3"
  },
  "language_info": {
   "codemirror_mode": {
    "name": "ipython",
    "version": 3
   },
   "file_extension": ".py",
   "mimetype": "text/x-python",
   "name": "python",
   "nbconvert_exporter": "python",
   "pygments_lexer": "ipython3",
   "version": "3.9.7"
  }
 },
 "nbformat": 4,
 "nbformat_minor": 5
}
